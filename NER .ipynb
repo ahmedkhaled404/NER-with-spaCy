{
 "cells": [
  {
   "cell_type": "markdown",
   "id": "d5f7a157",
   "metadata": {},
   "source": [
    "# Custom NER Corpus"
   ]
  },
  {
   "cell_type": "markdown",
   "id": "712aa993",
   "metadata": {},
   "source": [
    "## Importing Libraries"
   ]
  },
  {
   "cell_type": "code",
   "execution_count": 1,
   "id": "eec8d135",
   "metadata": {},
   "outputs": [],
   "source": [
    "import pandas as pd\n",
    "import spacy\n",
    "from spacy.tokens import DocBin\n",
    "from spacy.training.example import Example\n",
    "from spacy.util import minibatch\n",
    "import matplotlib.pyplot as plt\n",
    "import seaborn as sns\n",
    "from sklearn.model_selection import train_test_split"
   ]
  },
  {
   "cell_type": "markdown",
   "id": "4176e9e3",
   "metadata": {},
   "source": [
    "## Data loading and inspection"
   ]
  },
  {
   "cell_type": "code",
   "execution_count": 2,
   "id": "1c7098a7",
   "metadata": {
    "scrolled": true
   },
   "outputs": [],
   "source": [
    "# Load the dataset\n",
    "file_path = \"F:/Career/Applications/AI WideBot/NER/ner.csv\"\n",
    "data = pd.read_csv(file_path)"
   ]
  },
  {
   "cell_type": "code",
   "execution_count": 3,
   "id": "15f3e195",
   "metadata": {
    "scrolled": true
   },
   "outputs": [
    {
     "data": {
      "text/html": [
       "<div>\n",
       "<style scoped>\n",
       "    .dataframe tbody tr th:only-of-type {\n",
       "        vertical-align: middle;\n",
       "    }\n",
       "\n",
       "    .dataframe tbody tr th {\n",
       "        vertical-align: top;\n",
       "    }\n",
       "\n",
       "    .dataframe thead th {\n",
       "        text-align: right;\n",
       "    }\n",
       "</style>\n",
       "<table border=\"1\" class=\"dataframe\">\n",
       "  <thead>\n",
       "    <tr style=\"text-align: right;\">\n",
       "      <th></th>\n",
       "      <th>Sentence #</th>\n",
       "      <th>Sentence</th>\n",
       "      <th>POS</th>\n",
       "      <th>Tag</th>\n",
       "    </tr>\n",
       "  </thead>\n",
       "  <tbody>\n",
       "    <tr>\n",
       "      <th>0</th>\n",
       "      <td>Sentence: 1</td>\n",
       "      <td>Thousands of demonstrators have marched throug...</td>\n",
       "      <td>['NNS', 'IN', 'NNS', 'VBP', 'VBN', 'IN', 'NNP'...</td>\n",
       "      <td>['O', 'O', 'O', 'O', 'O', 'O', 'B-geo', 'O', '...</td>\n",
       "    </tr>\n",
       "    <tr>\n",
       "      <th>1</th>\n",
       "      <td>Sentence: 2</td>\n",
       "      <td>Families of soldiers killed in the conflict jo...</td>\n",
       "      <td>['NNS', 'IN', 'NNS', 'VBN', 'IN', 'DT', 'NN', ...</td>\n",
       "      <td>['O', 'O', 'O', 'O', 'O', 'O', 'O', 'O', 'O', ...</td>\n",
       "    </tr>\n",
       "    <tr>\n",
       "      <th>2</th>\n",
       "      <td>Sentence: 3</td>\n",
       "      <td>They marched from the Houses of Parliament to ...</td>\n",
       "      <td>['PRP', 'VBD', 'IN', 'DT', 'NNS', 'IN', 'NN', ...</td>\n",
       "      <td>['O', 'O', 'O', 'O', 'O', 'O', 'O', 'O', 'O', ...</td>\n",
       "    </tr>\n",
       "    <tr>\n",
       "      <th>3</th>\n",
       "      <td>Sentence: 4</td>\n",
       "      <td>Police put the number of marchers at 10,000 wh...</td>\n",
       "      <td>['NNS', 'VBD', 'DT', 'NN', 'IN', 'NNS', 'IN', ...</td>\n",
       "      <td>['O', 'O', 'O', 'O', 'O', 'O', 'O', 'O', 'O', ...</td>\n",
       "    </tr>\n",
       "    <tr>\n",
       "      <th>4</th>\n",
       "      <td>Sentence: 5</td>\n",
       "      <td>The protest comes on the eve of the annual con...</td>\n",
       "      <td>['DT', 'NN', 'VBZ', 'IN', 'DT', 'NN', 'IN', 'D...</td>\n",
       "      <td>['O', 'O', 'O', 'O', 'O', 'O', 'O', 'O', 'O', ...</td>\n",
       "    </tr>\n",
       "  </tbody>\n",
       "</table>\n",
       "</div>"
      ],
      "text/plain": [
       "    Sentence #                                           Sentence  \\\n",
       "0  Sentence: 1  Thousands of demonstrators have marched throug...   \n",
       "1  Sentence: 2  Families of soldiers killed in the conflict jo...   \n",
       "2  Sentence: 3  They marched from the Houses of Parliament to ...   \n",
       "3  Sentence: 4  Police put the number of marchers at 10,000 wh...   \n",
       "4  Sentence: 5  The protest comes on the eve of the annual con...   \n",
       "\n",
       "                                                 POS  \\\n",
       "0  ['NNS', 'IN', 'NNS', 'VBP', 'VBN', 'IN', 'NNP'...   \n",
       "1  ['NNS', 'IN', 'NNS', 'VBN', 'IN', 'DT', 'NN', ...   \n",
       "2  ['PRP', 'VBD', 'IN', 'DT', 'NNS', 'IN', 'NN', ...   \n",
       "3  ['NNS', 'VBD', 'DT', 'NN', 'IN', 'NNS', 'IN', ...   \n",
       "4  ['DT', 'NN', 'VBZ', 'IN', 'DT', 'NN', 'IN', 'D...   \n",
       "\n",
       "                                                 Tag  \n",
       "0  ['O', 'O', 'O', 'O', 'O', 'O', 'B-geo', 'O', '...  \n",
       "1  ['O', 'O', 'O', 'O', 'O', 'O', 'O', 'O', 'O', ...  \n",
       "2  ['O', 'O', 'O', 'O', 'O', 'O', 'O', 'O', 'O', ...  \n",
       "3  ['O', 'O', 'O', 'O', 'O', 'O', 'O', 'O', 'O', ...  \n",
       "4  ['O', 'O', 'O', 'O', 'O', 'O', 'O', 'O', 'O', ...  "
      ]
     },
     "execution_count": 3,
     "metadata": {},
     "output_type": "execute_result"
    }
   ],
   "source": [
    "data.head()"
   ]
  },
  {
   "cell_type": "code",
   "execution_count": 4,
   "id": "f436416d",
   "metadata": {},
   "outputs": [
    {
     "data": {
      "text/plain": [
       "'The London march came ahead of anti-war protests today in other cities , including Rome , Paris , and Madrid .'"
      ]
     },
     "execution_count": 4,
     "metadata": {},
     "output_type": "execute_result"
    }
   ],
   "source": [
    "data['Sentence'][6]"
   ]
  },
  {
   "cell_type": "code",
   "execution_count": 5,
   "id": "817f8660",
   "metadata": {},
   "outputs": [
    {
     "data": {
      "text/plain": [
       "\"['O', 'B-geo', 'O', 'O', 'O', 'O', 'O', 'O', 'O', 'O', 'O', 'O', 'O', 'O', 'B-geo', 'O', 'B-geo', 'O', 'O', 'B-geo', 'O']\""
      ]
     },
     "execution_count": 5,
     "metadata": {},
     "output_type": "execute_result"
    }
   ],
   "source": [
    "data['Tag'][6]"
   ]
  },
  {
   "cell_type": "markdown",
   "id": "efec1471",
   "metadata": {},
   "source": [
    "## EDA"
   ]
  },
  {
   "cell_type": "code",
   "execution_count": 6,
   "id": "129f61d6",
   "metadata": {},
   "outputs": [
    {
     "data": {
      "text/plain": [
       "(47959, 4)"
      ]
     },
     "execution_count": 6,
     "metadata": {},
     "output_type": "execute_result"
    }
   ],
   "source": [
    "data.shape"
   ]
  },
  {
   "cell_type": "code",
   "execution_count": 7,
   "id": "16306a32",
   "metadata": {},
   "outputs": [
    {
     "data": {
      "text/plain": [
       "0"
      ]
     },
     "execution_count": 7,
     "metadata": {},
     "output_type": "execute_result"
    }
   ],
   "source": [
    "# checking for duplicates\n",
    "duplicates_count=data.duplicated().sum()\n",
    "duplicates_count"
   ]
  },
  {
   "cell_type": "markdown",
   "id": "4e783755",
   "metadata": {},
   "source": [
    "## Data Preprocessing"
   ]
  },
  {
   "cell_type": "markdown",
   "id": "7cc9ecec",
   "metadata": {},
   "source": [
    "### preparing data for the spacy format"
   ]
  },
  {
   "cell_type": "code",
   "execution_count": 8,
   "id": "4a403946",
   "metadata": {},
   "outputs": [],
   "source": [
    "# Parse the data\n",
    "sentences = data['Sentence'].tolist()\n",
    "pos_tags = data['POS'].apply(eval).tolist()\n",
    "ner_tags = data['Tag'].apply(eval).tolist()"
   ]
  },
  {
   "cell_type": "code",
   "execution_count": 9,
   "id": "536f97a8",
   "metadata": {},
   "outputs": [
    {
     "data": {
      "text/plain": [
       "('Thousands of demonstrators have marched through London to protest the war in Iraq and demand the withdrawal of British troops from that country .',\n",
       " 'Thousands of demonstrators have marched through London to protest the war in Iraq and demand the withdrawal of British troops from that country .')"
      ]
     },
     "execution_count": 9,
     "metadata": {},
     "output_type": "execute_result"
    }
   ],
   "source": [
    "sentences[0],sentences[0]"
   ]
  },
  {
   "cell_type": "code",
   "execution_count": 10,
   "id": "e1449057",
   "metadata": {},
   "outputs": [
    {
     "data": {
      "text/plain": [
       "['NNS',\n",
       " 'IN',\n",
       " 'NNS',\n",
       " 'VBP',\n",
       " 'VBN',\n",
       " 'IN',\n",
       " 'NNP',\n",
       " 'TO',\n",
       " 'VB',\n",
       " 'DT',\n",
       " 'NN',\n",
       " 'IN',\n",
       " 'NNP',\n",
       " 'CC',\n",
       " 'VB',\n",
       " 'DT',\n",
       " 'NN',\n",
       " 'IN',\n",
       " 'JJ',\n",
       " 'NNS',\n",
       " 'IN',\n",
       " 'DT',\n",
       " 'NN',\n",
       " '.']"
      ]
     },
     "execution_count": 10,
     "metadata": {},
     "output_type": "execute_result"
    }
   ],
   "source": [
    "pos_tags[0]"
   ]
  },
  {
   "cell_type": "code",
   "execution_count": 11,
   "id": "86b5e7ef",
   "metadata": {},
   "outputs": [
    {
     "data": {
      "text/plain": [
       "['O',\n",
       " 'O',\n",
       " 'O',\n",
       " 'O',\n",
       " 'O',\n",
       " 'O',\n",
       " 'B-geo',\n",
       " 'O',\n",
       " 'O',\n",
       " 'O',\n",
       " 'O',\n",
       " 'O',\n",
       " 'B-geo',\n",
       " 'O',\n",
       " 'O',\n",
       " 'O',\n",
       " 'O',\n",
       " 'O',\n",
       " 'B-gpe',\n",
       " 'O',\n",
       " 'O',\n",
       " 'O',\n",
       " 'O',\n",
       " 'O']"
      ]
     },
     "execution_count": 11,
     "metadata": {},
     "output_type": "execute_result"
    }
   ],
   "source": [
    "ner_tags[0]"
   ]
  },
  {
   "cell_type": "code",
   "execution_count": 12,
   "id": "ac576503",
   "metadata": {},
   "outputs": [],
   "source": [
    "# Function to convert data into spaCy format\n",
    "def convert_to_spacy_format(sentences, pos_tags, ner_tags):\n",
    "    training_data = []\n",
    "    for sentence, pos, ner in zip(sentences, pos_tags, ner_tags):\n",
    "        entities = []\n",
    "        start = 0\n",
    "        for word, tag in zip(sentence.split(), ner):\n",
    "            end = start + len(word)\n",
    "            if tag != 'O':\n",
    "                entities.append((start, end, tag))\n",
    "            start = end + 1\n",
    "        training_data.append((sentence, {\"entities\": entities}))\n",
    "    return training_data"
   ]
  },
  {
   "cell_type": "code",
   "execution_count": 13,
   "id": "bf6f6c67",
   "metadata": {},
   "outputs": [],
   "source": [
    "# Convert data\n",
    "training_data = convert_to_spacy_format(sentences, pos_tags, ner_tags)"
   ]
  },
  {
   "cell_type": "code",
   "execution_count": 14,
   "id": "1d4202f0",
   "metadata": {},
   "outputs": [
    {
     "data": {
      "text/plain": [
       "47959"
      ]
     },
     "execution_count": 14,
     "metadata": {},
     "output_type": "execute_result"
    }
   ],
   "source": [
    "len(training_data)"
   ]
  },
  {
   "cell_type": "markdown",
   "id": "be63e1ca",
   "metadata": {},
   "source": [
    "### Splitting data into train, validation and test datasets"
   ]
  },
  {
   "cell_type": "code",
   "execution_count": 15,
   "id": "04373e59",
   "metadata": {},
   "outputs": [],
   "source": [
    "# Split data into training, validation, and test sets\n",
    "train_data, temp_data = train_test_split(training_data, test_size=0.2, random_state=42)\n",
    "val_data, test_data = train_test_split(temp_data, test_size=0.5, random_state=42)"
   ]
  },
  {
   "cell_type": "markdown",
   "id": "694e585b",
   "metadata": {},
   "source": [
    "### Create DocBin (text should be of type doc)"
   ]
  },
  {
   "cell_type": "code",
   "execution_count": 16,
   "id": "425ae03f",
   "metadata": {},
   "outputs": [],
   "source": [
    "# Function to create a DocBin for training\n",
    "def create_docbin(training_data, nlp):\n",
    "    doc_bin = DocBin()\n",
    "    for text, annot in training_data:\n",
    "        doc = nlp.make_doc(text)\n",
    "        example = Example.from_dict(doc, annot)\n",
    "        doc_bin.add(example.reference)\n",
    "    return doc_bin"
   ]
  },
  {
   "cell_type": "markdown",
   "id": "8173c5eb",
   "metadata": {},
   "source": [
    "## Model Development"
   ]
  },
  {
   "cell_type": "code",
   "execution_count": 17,
   "id": "63d70df8",
   "metadata": {},
   "outputs": [],
   "source": [
    "# Load a pre-trained English model (small)\n",
    "nlp = spacy.load('en_core_web_sm')"
   ]
  },
  {
   "cell_type": "code",
   "execution_count": 18,
   "id": "bed32ccf",
   "metadata": {},
   "outputs": [],
   "source": [
    "# Create the NER component\n",
    "ner = nlp.get_pipe('ner')"
   ]
  },
  {
   "cell_type": "code",
   "execution_count": 19,
   "id": "e7878d7d",
   "metadata": {},
   "outputs": [],
   "source": [
    "# Add labels\n",
    "for _, annotations in training_data:\n",
    "    for ent in annotations.get('entities'):\n",
    "        ner.add_label(ent[2])"
   ]
  },
  {
   "cell_type": "code",
   "execution_count": 20,
   "id": "128fd83e",
   "metadata": {},
   "outputs": [],
   "source": [
    "# Create DocBin for training and validation data\n",
    "train_doc_bin = create_docbin(train_data, nlp)\n",
    "val_doc_bin = create_docbin(val_data, nlp)"
   ]
  },
  {
   "cell_type": "code",
   "execution_count": 21,
   "id": "a9a3c8eb",
   "metadata": {},
   "outputs": [
    {
     "data": {
      "text/plain": [
       "<spacy.tokens._serialize.DocBin at 0x237134d0d10>"
      ]
     },
     "execution_count": 21,
     "metadata": {},
     "output_type": "execute_result"
    }
   ],
   "source": [
    "train_doc_bin"
   ]
  },
  {
   "cell_type": "markdown",
   "id": "0b975a6d",
   "metadata": {},
   "source": [
    "### Getting label distribution across datasets"
   ]
  },
  {
   "cell_type": "code",
   "execution_count": 22,
   "id": "cddfbb77",
   "metadata": {},
   "outputs": [],
   "source": [
    "from collections import Counter\n",
    "\n",
    "# Function to get label distribution\n",
    "def get_label_distribution(data):\n",
    "    labels = []\n",
    "    for text, annot in data:\n",
    "        for start, end, label in annot['entities']:\n",
    "            labels.append(label)\n",
    "    return Counter(labels)\n"
   ]
  },
  {
   "cell_type": "code",
   "execution_count": 23,
   "id": "37ed3d23",
   "metadata": {},
   "outputs": [],
   "source": [
    "# Get distribution for each dataset\n",
    "train_distribution = get_label_distribution(train_data)\n",
    "val_distribution = get_label_distribution(val_data)\n",
    "test_distribution = get_label_distribution(test_data)"
   ]
  },
  {
   "cell_type": "code",
   "execution_count": 24,
   "id": "de3516bf",
   "metadata": {},
   "outputs": [],
   "source": [
    "# Convert distribution data to DataFrame\n",
    "def distribution_to_df(distribution, dataset_name):\n",
    "    df = pd.DataFrame(distribution.items(), columns=['Label', 'Count'])\n",
    "    df['Dataset'] = dataset_name\n",
    "    return df\n",
    "\n",
    "# Get distributions\n",
    "train_df = distribution_to_df(train_distribution, 'Training')\n",
    "val_df = distribution_to_df(val_distribution, 'Validation')\n",
    "test_df = distribution_to_df(test_distribution, 'Test')\n",
    "\n",
    "# Combine all into a single DataFrame\n",
    "df = pd.concat([train_df, val_df, test_df], ignore_index=True)"
   ]
  },
  {
   "cell_type": "code",
   "execution_count": 25,
   "id": "03ddb901",
   "metadata": {},
   "outputs": [
    {
     "data": {
      "image/png": "[encoded data removed]",
      "text/plain": [
       "<Figure size 1400x800 with 1 Axes>"
      ]
     },
     "metadata": {},
     "output_type": "display_data"
    }
   ],
   "source": [
    "# Set the visual style\n",
    "sns.set(style=\"whitegrid\")\n",
    "\n",
    "# Create a bar plot\n",
    "plt.figure(figsize=(14, 8))\n",
    "sns.barplot(x='Label', y='Count', hue='Dataset', data=df, palette='viridis')\n",
    "plt.title('Label Distribution in Training, Validation, and Test Sets')\n",
    "plt.xlabel('Labels')\n",
    "plt.ylabel('Count')\n",
    "plt.xticks(rotation=45)\n",
    "plt.legend(title='Dataset')\n",
    "plt.show()\n"
   ]
  },
  {
   "cell_type": "markdown",
   "id": "381e9461",
   "metadata": {},
   "source": [
    "### Training on our data"
   ]
  },
  {
   "cell_type": "code",
   "execution_count": null,
   "id": "edeb2f65",
   "metadata": {},
   "outputs": [],
   "source": [
    "# Training the model\n",
    "optimizer = nlp.resume_training()"
   ]
  },
  {
   "cell_type": "code",
   "execution_count": 27,
   "id": "4494e8dd",
   "metadata": {
    "scrolled": true
   },
   "outputs": [
    {
     "name": "stdout",
     "output_type": "stream",
     "text": [
      "Iteration 0: Losses {'tok2vec': 0.0, 'tagger': 0.0, 'parser': 0.0, 'ner': 55515.89073257601}\n",
      "Iteration 1: Losses {'tok2vec': 0.0, 'tagger': 0.0, 'parser': 0.0, 'ner': 43384.60596920967}\n",
      "Iteration 2: Losses {'tok2vec': 0.0, 'tagger': 0.0, 'parser': 0.0, 'ner': 40376.296136099976}\n",
      "Iteration 3: Losses {'tok2vec': 0.0, 'tagger': 0.0, 'parser': 0.0, 'ner': 38106.76491739704}\n",
      "Iteration 4: Losses {'tok2vec': 0.0, 'tagger': 0.0, 'parser': 0.0, 'ner': 36558.791205975154}\n",
      "Iteration 5: Losses {'tok2vec': 0.0, 'tagger': 0.0, 'parser': 0.0, 'ner': 35531.306866597086}\n",
      "Iteration 6: Losses {'tok2vec': 0.0, 'tagger': 0.0, 'parser': 0.0, 'ner': 34756.38233646584}\n",
      "Iteration 7: Losses {'tok2vec': 0.0, 'tagger': 0.0, 'parser': 0.0, 'ner': 33848.25059285792}\n",
      "Iteration 8: Losses {'tok2vec': 0.0, 'tagger': 0.0, 'parser': 0.0, 'ner': 33226.110549600526}\n",
      "Iteration 9: Losses {'tok2vec': 0.0, 'tagger': 0.0, 'parser': 0.0, 'ner': 32541.185815206256}\n",
      "Iteration 10: Losses {'tok2vec': 0.0, 'tagger': 0.0, 'parser': 0.0, 'ner': 32225.875530046203}\n",
      "Iteration 11: Losses {'tok2vec': 0.0, 'tagger': 0.0, 'parser': 0.0, 'ner': 31904.672237696235}\n",
      "Iteration 12: Losses {'tok2vec': 0.0, 'tagger': 0.0, 'parser': 0.0, 'ner': 31425.615550599097}\n",
      "Iteration 13: Losses {'tok2vec': 0.0, 'tagger': 0.0, 'parser': 0.0, 'ner': 31030.20484890079}\n",
      "Iteration 14: Losses {'tok2vec': 0.0, 'tagger': 0.0, 'parser': 0.0, 'ner': 31087.55899268937}\n",
      "Iteration 15: Losses {'tok2vec': 0.0, 'tagger': 0.0, 'parser': 0.0, 'ner': 30518.92470298732}\n",
      "Iteration 16: Losses {'tok2vec': 0.0, 'tagger': 0.0, 'parser': 0.0, 'ner': 30624.31693996323}\n",
      "Iteration 17: Losses {'tok2vec': 0.0, 'tagger': 0.0, 'parser': 0.0, 'ner': 30087.783905081844}\n",
      "Iteration 18: Losses {'tok2vec': 0.0, 'tagger': 0.0, 'parser': 0.0, 'ner': 30110.494642000926}\n",
      "Iteration 19: Losses {'tok2vec': 0.0, 'tagger': 0.0, 'parser': 0.0, 'ner': 29851.429176918584}\n"
     ]
    }
   ],
   "source": [
    "# Fine-tuning the model\n",
    "for i in range(20):\n",
    "    losses = {}\n",
    "    batches = minibatch(train_data, size=8)\n",
    "    for batch in batches:\n",
    "        texts, annotations = zip(*batch)\n",
    "        examples = [Example.from_dict(nlp.make_doc(text), ann) for text, ann in zip(texts, annotations)]\n",
    "        nlp.update(examples, drop=0.35, losses=losses)\n",
    "    print(f\"Iteration {i}: Losses {losses}\")"
   ]
  },
  {
   "cell_type": "code",
   "execution_count": 28,
   "id": "cc75bc57",
   "metadata": {},
   "outputs": [],
   "source": [
    "# Save the trained model\n",
    "#nlp.to_disk(\"custom_ner_model\")"
   ]
  },
  {
   "cell_type": "code",
   "execution_count": 26,
   "id": "2bed0434",
   "metadata": {},
   "outputs": [],
   "source": [
    "# Load the trained model\n",
    "nlp = spacy.load(\"custom_ner_model\")"
   ]
  },
  {
   "cell_type": "markdown",
   "id": "23365167",
   "metadata": {},
   "source": [
    "### Model Evaluation"
   ]
  },
  {
   "cell_type": "code",
   "execution_count": 35,
   "id": "1efee205",
   "metadata": {},
   "outputs": [],
   "source": [
    "def evaluate_model(nlp, data):\n",
    "    results = []\n",
    "    for text, annot in data:\n",
    "        doc = nlp(text)\n",
    "        true_entities = [(start, end, label) for start, end, label in annot['entities']]\n",
    "        pred_entities = [(ent.start_char, ent.end_char, ent.label_) for ent in doc.ents]\n",
    "        results.append((true_entities, pred_entities, text))  # Ensure the tuple is in this format\n",
    "    return results\n"
   ]
  },
  {
   "cell_type": "code",
   "execution_count": 36,
   "id": "23e717eb",
   "metadata": {},
   "outputs": [],
   "source": [
    "# Evaluate on validation set\n",
    "val_results = evaluate_model(nlp, val_data)\n",
    "# Evaluate on test set\n",
    "test_results = evaluate_model(nlp, test_data)"
   ]
  },
  {
   "cell_type": "code",
   "execution_count": 37,
   "id": "544e8773",
   "metadata": {},
   "outputs": [],
   "source": [
    "def flatten_results_by_token(nlp, results):\n",
    "    true_labels = []\n",
    "    pred_labels = []\n",
    "    \n",
    "    for result in results:\n",
    "        true_entities = result[0]  # Extract true_entities\n",
    "        pred_entities = result[1]  # Extract pred_entities\n",
    "        \n",
    "        true_dict = {(start, end): label for start, end, label in true_entities}\n",
    "        pred_dict = {(start, end): label for start, end, label in pred_entities}\n",
    "        \n",
    "        # Collect all unique start positions\n",
    "        all_starts = sorted(set([start for start, end in true_dict.keys()] + [start for start, end in pred_dict.keys()]))\n",
    "        \n",
    "        for start in all_starts:\n",
    "            # Use token alignment with start position\n",
    "            true_label = true_dict.get((start, start+1), 'O')\n",
    "            pred_label = pred_dict.get((start, start+1), 'O')\n",
    "            true_labels.append(true_label)\n",
    "            pred_labels.append(pred_label)\n",
    "    \n",
    "    return true_labels, pred_labels\n"
   ]
  },
  {
   "cell_type": "code",
   "execution_count": 39,
   "id": "c0e39aab",
   "metadata": {},
   "outputs": [],
   "source": [
    "val_true_labels, val_pred_labels = flatten_results_by_token(nlp, val_results)\n",
    "test_true_labels, test_pred_labels = flatten_results_by_token(nlp, test_results)"
   ]
  },
  {
   "cell_type": "code",
   "execution_count": 40,
   "id": "2b1f0e23",
   "metadata": {
    "scrolled": true
   },
   "outputs": [
    {
     "name": "stdout",
     "output_type": "stream",
     "text": [
      "Validation Classification Report:\n",
      "              precision    recall  f1-score   support\n",
      "\n",
      "       B-eve       1.00      0.00      0.00         1\n",
      "       B-org       1.00      0.00      0.00         3\n",
      "       B-per       1.00      0.00      0.00         1\n",
      "       B-tim       1.00      0.50      0.67         8\n",
      "       I-art       0.00      0.00      1.00         2\n",
      "       I-eve       0.50      1.00      0.67         1\n",
      "       I-geo       0.00      0.00      1.00         7\n",
      "       I-org       0.62      0.40      0.49        25\n",
      "       I-per       0.67      0.33      0.44         6\n",
      "       I-tim       0.87      0.85      0.86        65\n",
      "           O       1.00      1.00      1.00     16451\n",
      "\n",
      "    accuracy                           1.00     16570\n",
      "   macro avg       0.70      0.37      0.56     16570\n",
      "weighted avg       1.00      1.00      1.00     16570\n",
      "\n",
      "Test Classification Report:\n",
      "              precision    recall  f1-score   support\n",
      "\n",
      "       B-eve       1.00      0.00      0.00         1\n",
      "       B-geo       1.00      0.00      0.00         1\n",
      "       B-org       1.00      0.33      0.50         3\n",
      "       B-tim       0.60      0.43      0.50         7\n",
      "       I-art       1.00      0.00      0.00         1\n",
      "       I-eve       0.75      1.00      0.86         3\n",
      "       I-geo       0.40      0.40      0.40         5\n",
      "       I-org       0.45      0.36      0.40        14\n",
      "       I-per       1.00      0.14      0.25         7\n",
      "       I-tim       0.91      0.92      0.91        75\n",
      "           O       1.00      1.00      1.00     16446\n",
      "\n",
      "    accuracy                           1.00     16563\n",
      "   macro avg       0.83      0.42      0.44     16563\n",
      "weighted avg       1.00      1.00      1.00     16563\n",
      "\n"
     ]
    }
   ],
   "source": [
    "from sklearn.metrics import confusion_matrix, precision_recall_curve, average_precision_score,classification_report\n",
    "# Calculate classification report for validation set\n",
    "val_report = classification_report(val_true_labels, val_pred_labels, zero_division=1)\n",
    "print(\"Validation Classification Report:\")\n",
    "print(val_report)\n",
    "\n",
    "# Calculate classification report for test set\n",
    "test_report = classification_report(test_true_labels, test_pred_labels, zero_division=1)\n",
    "print(\"Test Classification Report:\")\n",
    "print(test_report)"
   ]
  },
  {
   "cell_type": "code",
   "execution_count": 73,
   "id": "07c86993",
   "metadata": {
    "scrolled": true
   },
   "outputs": [
    {
     "data": {
      "image/png": "[encoded data removed]",
      "text/plain": [
       "<Figure size 1400x800 with 1 Axes>"
      ]
     },
     "metadata": {},
     "output_type": "display_data"
    }
   ],
   "source": [
    "# Extract entity labels from predictions\n",
    "pred_labels = [ent.label_ for doc in nlp.pipe([text for text, _ in val_data]) for ent in doc.ents]\n",
    "\n",
    "# Get distribution\n",
    "pred_distribution = Counter(pred_labels)\n",
    "pred_df = pd.DataFrame(pred_distribution.items(), columns=['Label', 'Count'])\n",
    "\n",
    "# Plot distribution\n",
    "plt.figure(figsize=(14, 8))\n",
    "sns.barplot(x='Label', y='Count', data=pred_df, palette='viridis')\n",
    "plt.title('Predicted Label Distribution')\n",
    "plt.xlabel('Labels')\n",
    "plt.ylabel('Count')\n",
    "plt.xticks(rotation=45)\n",
    "plt.show()\n"
   ]
  },
  {
   "cell_type": "code",
   "execution_count": 72,
   "id": "2128ba34",
   "metadata": {
    "scrolled": false
   },
   "outputs": [
    {
     "name": "stdout",
     "output_type": "stream",
     "text": [
      "True Entities:\n"
     ]
    },
    {
     "data": {
      "text/html": [
       "<span class=\"tex2jax_ignore\"><div class=\"entities\" style=\"line-height: 2.5; direction: ltr\">One militant was reported critically wounded in the southern \n",
       "<mark class=\"entity\" style=\"background: #66b3ff; padding: 0.45em 0.6em; margin: 0 0.25em; line-height: 1; border-radius: 0.35em;\">\n",
       "    Gaza\n",
       "    <span style=\"font-size: 0.8em; font-weight: bold; line-height: 1; border-radius: 0.35em; vertical-align: middle; margin-left: 0.5rem\">B-geo</span>\n",
       "</mark>\n",
       " strike .</div></span>"
      ],
      "text/plain": [
       "<IPython.core.display.HTML object>"
      ]
     },
     "metadata": {},
     "output_type": "display_data"
    },
    {
     "name": "stdout",
     "output_type": "stream",
     "text": [
      "Predicted Entities:\n"
     ]
    },
    {
     "data": {
      "text/html": [
       "<span class=\"tex2jax_ignore\"><div class=\"entities\" style=\"line-height: 2.5; direction: ltr\">One militant was reported critically wounded in the southern \n",
       "<mark class=\"entity\" style=\"background: #66b3ff; padding: 0.45em 0.6em; margin: 0 0.25em; line-height: 1; border-radius: 0.35em;\">\n",
       "    Gaza\n",
       "    <span style=\"font-size: 0.8em; font-weight: bold; line-height: 1; border-radius: 0.35em; vertical-align: middle; margin-left: 0.5rem\">B-geo</span>\n",
       "</mark>\n",
       " strike .</div></span>"
      ],
      "text/plain": [
       "<IPython.core.display.HTML object>"
      ]
     },
     "metadata": {},
     "output_type": "display_data"
    },
    {
     "name": "stdout",
     "output_type": "stream",
     "text": [
      "True Entities:\n"
     ]
    },
    {
     "data": {
      "text/html": [
       "<span class=\"tex2jax_ignore\"><div class=\"entities\" style=\"line-height: 2.5; direction: ltr\">\n",
       "<mark class=\"entity\" style=\"background: #ddd; padding: 0.45em 0.6em; margin: 0 0.25em; line-height: 1; border-radius: 0.35em;\">\n",
       "    Atmar\n",
       "    <span style=\"font-size: 0.8em; font-weight: bold; line-height: 1; border-radius: 0.35em; vertical-align: middle; margin-left: 0.5rem\">B-per</span>\n",
       "</mark>\n",
       " says \n",
       "<mark class=\"entity\" style=\"background: #99ff99; padding: 0.45em 0.6em; margin: 0 0.25em; line-height: 1; border-radius: 0.35em;\">\n",
       "    Taleban\n",
       "    <span style=\"font-size: 0.8em; font-weight: bold; line-height: 1; border-radius: 0.35em; vertical-align: middle; margin-left: 0.5rem\">B-org</span>\n",
       "</mark>\n",
       " militants had burned 183 schools in the \n",
       "<mark class=\"entity\" style=\"background: #ffcc99; padding: 0.45em 0.6em; margin: 0 0.25em; line-height: 1; border-radius: 0.35em;\">\n",
       "    past\n",
       "    <span style=\"font-size: 0.8em; font-weight: bold; line-height: 1; border-radius: 0.35em; vertical-align: middle; margin-left: 0.5rem\">B-tim</span>\n",
       "</mark>\n",
       " year and killed 61 students and teachers .</div></span>"
      ],
      "text/plain": [
       "<IPython.core.display.HTML object>"
      ]
     },
     "metadata": {},
     "output_type": "display_data"
    },
    {
     "name": "stdout",
     "output_type": "stream",
     "text": [
      "Predicted Entities:\n"
     ]
    },
    {
     "data": {
      "text/html": [
       "<span class=\"tex2jax_ignore\"><div class=\"entities\" style=\"line-height: 2.5; direction: ltr\">\n",
       "<mark class=\"entity\" style=\"background: #ddd; padding: 0.45em 0.6em; margin: 0 0.25em; line-height: 1; border-radius: 0.35em;\">\n",
       "    Atmar\n",
       "    <span style=\"font-size: 0.8em; font-weight: bold; line-height: 1; border-radius: 0.35em; vertical-align: middle; margin-left: 0.5rem\">B-per</span>\n",
       "</mark>\n",
       " says \n",
       "<mark class=\"entity\" style=\"background: #99ff99; padding: 0.45em 0.6em; margin: 0 0.25em; line-height: 1; border-radius: 0.35em;\">\n",
       "    Taleban\n",
       "    <span style=\"font-size: 0.8em; font-weight: bold; line-height: 1; border-radius: 0.35em; vertical-align: middle; margin-left: 0.5rem\">B-org</span>\n",
       "</mark>\n",
       " militants had burned 183 schools in the \n",
       "<mark class=\"entity\" style=\"background: #ffcc99; padding: 0.45em 0.6em; margin: 0 0.25em; line-height: 1; border-radius: 0.35em;\">\n",
       "    past\n",
       "    <span style=\"font-size: 0.8em; font-weight: bold; line-height: 1; border-radius: 0.35em; vertical-align: middle; margin-left: 0.5rem\">B-tim</span>\n",
       "</mark>\n",
       " year and killed 61 students and teachers .</div></span>"
      ],
      "text/plain": [
       "<IPython.core.display.HTML object>"
      ]
     },
     "metadata": {},
     "output_type": "display_data"
    }
   ],
   "source": [
    "from spacy import displacy\n",
    "\n",
    "def visualize_entities_with_displacy(text, true_entities, pred_entities):\n",
    "    doc = nlp(text)\n",
    "    \n",
    "    # Set up colors\n",
    "    colors = {\n",
    "    \"B-eve\": \"#ff9999\",\n",
    "    \"B-geo\": \"#66b3ff\",\n",
    "    \"B-org\": \"#99ff99\",\n",
    "    \"B-tim\": \"#ffcc99\",\n",
    "    \"I-art\": \"#c2c2f0\",\n",
    "    \"I-eve\": \"#ffb3e6\",\n",
    "    \"I-geo\": \"#c2f0c2\",\n",
    "    \"I-org\": \"#c4e17f\",\n",
    "    \"I-per\": \"#ffb3b3\",\n",
    "    \"I-tim\": \"#b3b3b3\"\n",
    "    }\n",
    "    \n",
    "    # Create annotations for true entities\n",
    "    true_annotations = {\"entities\": true_entities}\n",
    "    \n",
    "    # Render true entities\n",
    "    print(\"True Entities:\")\n",
    "    displacy.render(doc, style=\"ent\", options={\"colors\": colors})\n",
    "\n",
    "    # Create a new Doc object for predictions\n",
    "    doc_pred = nlp(text)\n",
    "    doc_pred.ents = [doc_pred.char_span(start, end, label) for start, end, label in pred_entities]\n",
    "    \n",
    "    # Render predicted entities\n",
    "    print(\"Predicted Entities:\")\n",
    "    displacy.render(doc_pred, style=\"ent\", options={\"colors\": colors})\n",
    "\n",
    "# Example usage\n",
    "for text, annot in val_data[3:5]:\n",
    "    true_entities = annot['entities']\n",
    "    pred_entities = [(ent.start_char, ent.end_char, ent.label_) for ent in nlp(text).ents]\n",
    "    if true_entities or pred_entities:  # Plot only if there are entities to show\n",
    "        visualize_entities_with_displacy(text, true_entities, pred_entities)\n",
    "    else:\n",
    "        print(\"No entities found in this example.\")\n"
   ]
  },
  {
   "cell_type": "code",
   "execution_count": null,
   "id": "5e5a84b1",
   "metadata": {},
   "outputs": [],
   "source": []
  }
 ],
 "metadata": {
  "kernelspec": {
   "display_name": "Python 3 (ipykernel)",
   "language": "python",
   "name": "python3"
  },
  "language_info": {
   "codemirror_mode": {
    "name": "ipython",
    "version": 3
   },
   "file_extension": ".py",
   "mimetype": "text/x-python",
   "name": "python",
   "nbconvert_exporter": "python",
   "pygments_lexer": "ipython3",
   "version": "3.11.4"
  }
 },
 "nbformat": 4,
 "nbformat_minor": 5
}
